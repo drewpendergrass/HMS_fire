{
 "cells": [
  {
   "cell_type": "markdown",
   "metadata": {},
   "source": [
    "# Create csv of file list"
   ]
  },
  {
   "cell_type": "code",
   "execution_count": 1,
   "metadata": {},
   "outputs": [],
   "source": [
    "from os import listdir, path, makedirs\n",
    "import re\n",
    "from datetime import datetime, timedelta, time\n",
    "from glob import glob\n",
    "import pandas as pd"
   ]
  },
  {
   "cell_type": "markdown",
   "metadata": {},
   "source": [
    "### Image directory"
   ]
  },
  {
   "cell_type": "code",
   "execution_count": 2,
   "metadata": {},
   "outputs": [],
   "source": [
    "original_dir = '/n/mickley/users/'\n",
    "band1_dir = path.join(original_dir, 'ktoshima', '*b1*')\n",
    "band3_dir = path.join(original_dir, 'ktoshima', '*b3*')\n",
    "hms_dir = path.join(original_dir, 'HMS', 'HMS_Density')\n",
    "daynight_dir = path.join(original_dir, 'HMS', 'DayNight')"
   ]
  },
  {
   "cell_type": "markdown",
   "metadata": {},
   "source": [
    "## Define patterns to extract timestamp from images\n",
    "### GOES pattern"
   ]
  },
  {
   "cell_type": "code",
   "execution_count": 29,
   "metadata": {},
   "outputs": [],
   "source": [
    "band1_path = path.join(band1_dir, \"**\", \"*.png\")\n",
    "band3_path = path.join(band3_dir, \"**\", \"*.png\")"
   ]
  },
  {
   "cell_type": "code",
   "execution_count": 30,
   "metadata": {},
   "outputs": [
    {
     "data": {
      "text/plain": [
       "'GOES16_201807010100.png'"
      ]
     },
     "execution_count": 30,
     "metadata": {},
     "output_type": "execute_result"
    }
   ],
   "source": [
    "sample = path.basename(glob(band1_path, recursive=True)[0])\n",
    "sample"
   ]
  },
  {
   "cell_type": "code",
   "execution_count": 4,
   "metadata": {},
   "outputs": [],
   "source": [
    "goes_pattern = re.compile(r\"GOES16_(?P<year>\\d{4}?)(?P<month>\\d{2}?)(?P<day>\\d{2}?)(?P<hour>\\d{2}?)(?P<minute>\\d{2}?)\\.png\", re.VERBOSE)"
   ]
  },
  {
   "cell_type": "code",
   "execution_count": 7,
   "metadata": {},
   "outputs": [],
   "source": [
    "def extract_GOES(s):\n",
    "    match = goes_pattern.match(s)\n",
    "    if match:\n",
    "        year = int(match.group('year'))\n",
    "        month = int(match.group('month'))\n",
    "        day = int(match.group('day'))\n",
    "        hour = int(match.group('hour'))\n",
    "        minute = 0 if int(match.group('minute')) < 30 else 30\n",
    "        return datetime(year=year, month=month, day=day, hour=hour, minute=minute)\n",
    "    else:\n",
    "        return None"
   ]
  },
  {
   "cell_type": "code",
   "execution_count": 8,
   "metadata": {},
   "outputs": [
    {
     "data": {
      "text/plain": [
       "datetime.datetime(2018, 7, 1, 1, 0)"
      ]
     },
     "execution_count": 8,
     "metadata": {},
     "output_type": "execute_result"
    }
   ],
   "source": [
    "extract_GOES(sample)"
   ]
  },
  {
   "cell_type": "markdown",
   "metadata": {},
   "source": [
    "### HMS pattern"
   ]
  },
  {
   "cell_type": "code",
   "execution_count": 31,
   "metadata": {},
   "outputs": [],
   "source": [
    "hms_path = path.join(hms_dir, \"**\", \"*.tif\")"
   ]
  },
  {
   "cell_type": "code",
   "execution_count": 32,
   "metadata": {},
   "outputs": [
    {
     "data": {
      "text/plain": [
       "'HMS_Density_20170701_0100.tif'"
      ]
     },
     "execution_count": 32,
     "metadata": {},
     "output_type": "execute_result"
    }
   ],
   "source": [
    "hms_sample = path.basename(glob(hms_path, recursive=True)[2])\n",
    "hms_sample"
   ]
  },
  {
   "cell_type": "code",
   "execution_count": 12,
   "metadata": {},
   "outputs": [],
   "source": [
    "hms_pattern = re.compile(r\"HMS_Density_(?P<year>\\d{4}?)(?P<month>\\d{2}?)(?P<day>\\d{2}?)_(?P<hour>\\d{2}?)(?P<minute>\\d{2}?)\\.tif\", re.VERBOSE)"
   ]
  },
  {
   "cell_type": "code",
   "execution_count": 13,
   "metadata": {},
   "outputs": [],
   "source": [
    "def extract_HMS(s):\n",
    "    match = hms_pattern.match(s)\n",
    "    if match:\n",
    "        year = int(match.group('year'))\n",
    "        month = int(match.group('month'))\n",
    "        day = int(match.group('day'))\n",
    "        hour = int(match.group('hour'))\n",
    "        minute = 0 if int(match.group('minute')) < 30 else 30\n",
    "        return datetime(year=year, month=month, day=day, hour=hour, minute=minute)\n",
    "    else:\n",
    "        return ValueError()"
   ]
  },
  {
   "cell_type": "code",
   "execution_count": 14,
   "metadata": {},
   "outputs": [
    {
     "data": {
      "text/plain": [
       "datetime.datetime(2017, 7, 1, 1, 0)"
      ]
     },
     "execution_count": 14,
     "metadata": {},
     "output_type": "execute_result"
    }
   ],
   "source": [
    "extract_HMS(hms_sample)"
   ]
  },
  {
   "cell_type": "markdown",
   "metadata": {},
   "source": [
    "### Daynight pattern"
   ]
  },
  {
   "cell_type": "code",
   "execution_count": 35,
   "metadata": {},
   "outputs": [],
   "source": [
    "daynight_path = path.join(daynight_dir, \"**\", \"*.png\")"
   ]
  },
  {
   "cell_type": "code",
   "execution_count": 40,
   "metadata": {},
   "outputs": [
    {
     "data": {
      "text/plain": [
       "'DayNight_001_0500.png'"
      ]
     },
     "execution_count": 40,
     "metadata": {},
     "output_type": "execute_result"
    }
   ],
   "source": [
    "daynight_sample = path.basename(glob(daynight_path, recursive=True)[10])\n",
    "daynight_sample"
   ]
  },
  {
   "cell_type": "code",
   "execution_count": 41,
   "metadata": {},
   "outputs": [],
   "source": [
    "daynight_pattern = re.compile(r\"DayNight_(?P<yday>\\d{3}?)_(?P<hour>\\d{2}?)(?P<minute>\\d{2}?)\\.png\", re.VERBOSE)"
   ]
  },
  {
   "cell_type": "code",
   "execution_count": 42,
   "metadata": {},
   "outputs": [],
   "source": [
    "def extract_daynight(s):\n",
    "    match = daynight_pattern.match(s)\n",
    "    if match:\n",
    "        yday = int(match.group('yday'))\n",
    "        hour = int(match.group('hour'))\n",
    "        minute = 0 if int(match.group('minute')) < 30 else 30\n",
    "        return yday, hour, minute\n",
    "    else:\n",
    "        return ValueError()"
   ]
  },
  {
   "cell_type": "code",
   "execution_count": 43,
   "metadata": {},
   "outputs": [
    {
     "data": {
      "text/plain": [
       "(1, 5, 0)"
      ]
     },
     "execution_count": 43,
     "metadata": {},
     "output_type": "execute_result"
    }
   ],
   "source": [
    "extract_daynight(daynight_sample)"
   ]
  },
  {
   "cell_type": "markdown",
   "metadata": {},
   "source": [
    "## Create csv for file list\n",
    "### GOES"
   ]
  },
  {
   "cell_type": "code",
   "execution_count": 44,
   "metadata": {},
   "outputs": [],
   "source": [
    "band1_path_list = filter(lambda s: goes_pattern.match(path.basename(s)), glob(band1_path, recursive=True))\n",
    "band3_path_list = filter(lambda s: goes_pattern.match(path.basename(s)), glob(band3_path, recursive=True))"
   ]
  },
  {
   "cell_type": "code",
   "execution_count": 45,
   "metadata": {},
   "outputs": [],
   "source": [
    "band1_df = pd.concat([pd.DataFrame([file_path],\n",
    "                                   columns=['path_band1']) \n",
    "                      for file_path in band1_path_list],\n",
    "                     ignore_index=True)\n",
    "band3_df = pd.concat([pd.DataFrame([file_path],\n",
    "                                   columns=['path_band3']) \n",
    "                      for file_path in band3_path_list],\n",
    "                     ignore_index=True)"
   ]
  },
  {
   "cell_type": "code",
   "execution_count": 46,
   "metadata": {},
   "outputs": [],
   "source": [
    "band1_df['timestamp'] = band1_df['path_band1'].apply(lambda filepath: extract_GOES(path.basename(filepath)))\n",
    "band1_df = band1_df.set_index('timestamp').sort_index()"
   ]
  },
  {
   "cell_type": "code",
   "execution_count": 65,
   "metadata": {},
   "outputs": [
    {
     "data": {
      "text/html": [
       "<div>\n",
       "<style scoped>\n",
       "    .dataframe tbody tr th:only-of-type {\n",
       "        vertical-align: middle;\n",
       "    }\n",
       "\n",
       "    .dataframe tbody tr th {\n",
       "        vertical-align: top;\n",
       "    }\n",
       "\n",
       "    .dataframe thead th {\n",
       "        text-align: right;\n",
       "    }\n",
       "</style>\n",
       "<table border=\"1\" class=\"dataframe\">\n",
       "  <thead>\n",
       "    <tr style=\"text-align: right;\">\n",
       "      <th></th>\n",
       "      <th>path_band1</th>\n",
       "    </tr>\n",
       "    <tr>\n",
       "      <th>timestamp</th>\n",
       "      <th></th>\n",
       "    </tr>\n",
       "  </thead>\n",
       "  <tbody>\n",
       "    <tr>\n",
       "      <th>2017-07-11 00:00:00</th>\n",
       "      <td>/n/mickley/users/ktoshima/goes16_b1_2017/GOES1...</td>\n",
       "    </tr>\n",
       "    <tr>\n",
       "      <th>2017-07-11 00:30:00</th>\n",
       "      <td>/n/mickley/users/ktoshima/goes16_b1_2017/GOES1...</td>\n",
       "    </tr>\n",
       "    <tr>\n",
       "      <th>2017-07-11 01:00:00</th>\n",
       "      <td>/n/mickley/users/ktoshima/goes16_b1_2017/GOES1...</td>\n",
       "    </tr>\n",
       "    <tr>\n",
       "      <th>2017-07-11 01:30:00</th>\n",
       "      <td>/n/mickley/users/ktoshima/goes16_b1_2017/GOES1...</td>\n",
       "    </tr>\n",
       "    <tr>\n",
       "      <th>2017-07-11 02:00:00</th>\n",
       "      <td>/n/mickley/users/ktoshima/goes16_b1_2017/GOES1...</td>\n",
       "    </tr>\n",
       "    <tr>\n",
       "      <th>...</th>\n",
       "      <td>...</td>\n",
       "    </tr>\n",
       "    <tr>\n",
       "      <th>2020-11-30 17:00:00</th>\n",
       "      <td>/n/mickley/users/ktoshima/goes16_b1_2020/GOES1...</td>\n",
       "    </tr>\n",
       "    <tr>\n",
       "      <th>2020-11-30 17:30:00</th>\n",
       "      <td>/n/mickley/users/ktoshima/goes16_b1_2020/GOES1...</td>\n",
       "    </tr>\n",
       "    <tr>\n",
       "      <th>2020-11-30 18:00:00</th>\n",
       "      <td>/n/mickley/users/ktoshima/goes16_b1_2020/GOES1...</td>\n",
       "    </tr>\n",
       "    <tr>\n",
       "      <th>2020-11-30 18:30:00</th>\n",
       "      <td>/n/mickley/users/ktoshima/goes16_b1_2020/GOES1...</td>\n",
       "    </tr>\n",
       "    <tr>\n",
       "      <th>2020-11-30 19:00:00</th>\n",
       "      <td>/n/mickley/users/ktoshima/goes16_b1_2020/GOES1...</td>\n",
       "    </tr>\n",
       "  </tbody>\n",
       "</table>\n",
       "<p>11117 rows × 1 columns</p>\n",
       "</div>"
      ],
      "text/plain": [
       "                                                            path_band1\n",
       "timestamp                                                             \n",
       "2017-07-11 00:00:00  /n/mickley/users/ktoshima/goes16_b1_2017/GOES1...\n",
       "2017-07-11 00:30:00  /n/mickley/users/ktoshima/goes16_b1_2017/GOES1...\n",
       "2017-07-11 01:00:00  /n/mickley/users/ktoshima/goes16_b1_2017/GOES1...\n",
       "2017-07-11 01:30:00  /n/mickley/users/ktoshima/goes16_b1_2017/GOES1...\n",
       "2017-07-11 02:00:00  /n/mickley/users/ktoshima/goes16_b1_2017/GOES1...\n",
       "...                                                                ...\n",
       "2020-11-30 17:00:00  /n/mickley/users/ktoshima/goes16_b1_2020/GOES1...\n",
       "2020-11-30 17:30:00  /n/mickley/users/ktoshima/goes16_b1_2020/GOES1...\n",
       "2020-11-30 18:00:00  /n/mickley/users/ktoshima/goes16_b1_2020/GOES1...\n",
       "2020-11-30 18:30:00  /n/mickley/users/ktoshima/goes16_b1_2020/GOES1...\n",
       "2020-11-30 19:00:00  /n/mickley/users/ktoshima/goes16_b1_2020/GOES1...\n",
       "\n",
       "[11117 rows x 1 columns]"
      ]
     },
     "execution_count": 65,
     "metadata": {},
     "output_type": "execute_result"
    }
   ],
   "source": [
    "band1_df"
   ]
  },
  {
   "cell_type": "code",
   "execution_count": 66,
   "metadata": {},
   "outputs": [
    {
     "data": {
      "text/plain": [
       "11117"
      ]
     },
     "execution_count": 66,
     "metadata": {},
     "output_type": "execute_result"
    }
   ],
   "source": [
    "len(band1_df)"
   ]
  },
  {
   "cell_type": "code",
   "execution_count": 48,
   "metadata": {},
   "outputs": [],
   "source": [
    "band3_df['timestamp'] = band3_df['path_band3'].apply(lambda filepath: extract_GOES(path.basename(filepath)))\n",
    "band3_df = band3_df.set_index('timestamp').sort_index()"
   ]
  },
  {
   "cell_type": "code",
   "execution_count": 67,
   "metadata": {},
   "outputs": [
    {
     "data": {
      "text/html": [
       "<div>\n",
       "<style scoped>\n",
       "    .dataframe tbody tr th:only-of-type {\n",
       "        vertical-align: middle;\n",
       "    }\n",
       "\n",
       "    .dataframe tbody tr th {\n",
       "        vertical-align: top;\n",
       "    }\n",
       "\n",
       "    .dataframe thead th {\n",
       "        text-align: right;\n",
       "    }\n",
       "</style>\n",
       "<table border=\"1\" class=\"dataframe\">\n",
       "  <thead>\n",
       "    <tr style=\"text-align: right;\">\n",
       "      <th></th>\n",
       "      <th>path_band3</th>\n",
       "    </tr>\n",
       "    <tr>\n",
       "      <th>timestamp</th>\n",
       "      <th></th>\n",
       "    </tr>\n",
       "  </thead>\n",
       "  <tbody>\n",
       "    <tr>\n",
       "      <th>2017-07-11 00:00:00</th>\n",
       "      <td>/n/mickley/users/ktoshima/goes16_b3_2017/GOES1...</td>\n",
       "    </tr>\n",
       "    <tr>\n",
       "      <th>2017-07-11 00:30:00</th>\n",
       "      <td>/n/mickley/users/ktoshima/goes16_b3_2017/GOES1...</td>\n",
       "    </tr>\n",
       "    <tr>\n",
       "      <th>2017-07-11 01:00:00</th>\n",
       "      <td>/n/mickley/users/ktoshima/goes16_b3_2017/GOES1...</td>\n",
       "    </tr>\n",
       "    <tr>\n",
       "      <th>2017-07-11 01:30:00</th>\n",
       "      <td>/n/mickley/users/ktoshima/goes16_b3_2017/GOES1...</td>\n",
       "    </tr>\n",
       "    <tr>\n",
       "      <th>2017-07-11 02:00:00</th>\n",
       "      <td>/n/mickley/users/ktoshima/goes16_b3_2017/GOES1...</td>\n",
       "    </tr>\n",
       "    <tr>\n",
       "      <th>...</th>\n",
       "      <td>...</td>\n",
       "    </tr>\n",
       "    <tr>\n",
       "      <th>2020-11-30 17:00:00</th>\n",
       "      <td>/n/mickley/users/ktoshima/goes16_b3_2020/GOES1...</td>\n",
       "    </tr>\n",
       "    <tr>\n",
       "      <th>2020-11-30 17:30:00</th>\n",
       "      <td>/n/mickley/users/ktoshima/goes16_b3_2020/GOES1...</td>\n",
       "    </tr>\n",
       "    <tr>\n",
       "      <th>2020-11-30 18:00:00</th>\n",
       "      <td>/n/mickley/users/ktoshima/goes16_b3_2020/GOES1...</td>\n",
       "    </tr>\n",
       "    <tr>\n",
       "      <th>2020-11-30 18:30:00</th>\n",
       "      <td>/n/mickley/users/ktoshima/goes16_b3_2020/GOES1...</td>\n",
       "    </tr>\n",
       "    <tr>\n",
       "      <th>2020-11-30 19:00:00</th>\n",
       "      <td>/n/mickley/users/ktoshima/goes16_b3_2020/GOES1...</td>\n",
       "    </tr>\n",
       "  </tbody>\n",
       "</table>\n",
       "<p>11117 rows × 1 columns</p>\n",
       "</div>"
      ],
      "text/plain": [
       "                                                            path_band3\n",
       "timestamp                                                             \n",
       "2017-07-11 00:00:00  /n/mickley/users/ktoshima/goes16_b3_2017/GOES1...\n",
       "2017-07-11 00:30:00  /n/mickley/users/ktoshima/goes16_b3_2017/GOES1...\n",
       "2017-07-11 01:00:00  /n/mickley/users/ktoshima/goes16_b3_2017/GOES1...\n",
       "2017-07-11 01:30:00  /n/mickley/users/ktoshima/goes16_b3_2017/GOES1...\n",
       "2017-07-11 02:00:00  /n/mickley/users/ktoshima/goes16_b3_2017/GOES1...\n",
       "...                                                                ...\n",
       "2020-11-30 17:00:00  /n/mickley/users/ktoshima/goes16_b3_2020/GOES1...\n",
       "2020-11-30 17:30:00  /n/mickley/users/ktoshima/goes16_b3_2020/GOES1...\n",
       "2020-11-30 18:00:00  /n/mickley/users/ktoshima/goes16_b3_2020/GOES1...\n",
       "2020-11-30 18:30:00  /n/mickley/users/ktoshima/goes16_b3_2020/GOES1...\n",
       "2020-11-30 19:00:00  /n/mickley/users/ktoshima/goes16_b3_2020/GOES1...\n",
       "\n",
       "[11117 rows x 1 columns]"
      ]
     },
     "execution_count": 67,
     "metadata": {},
     "output_type": "execute_result"
    }
   ],
   "source": [
    "band3_df"
   ]
  },
  {
   "cell_type": "code",
   "execution_count": 68,
   "metadata": {},
   "outputs": [
    {
     "data": {
      "text/plain": [
       "11117"
      ]
     },
     "execution_count": 68,
     "metadata": {},
     "output_type": "execute_result"
    }
   ],
   "source": [
    "len(band3_df)"
   ]
  },
  {
   "cell_type": "markdown",
   "metadata": {},
   "source": [
    "### HMS"
   ]
  },
  {
   "cell_type": "code",
   "execution_count": 50,
   "metadata": {},
   "outputs": [],
   "source": [
    "hms_path_list = filter(lambda s: hms_pattern.match(path.basename(s)), glob(hms_path, recursive=True))"
   ]
  },
  {
   "cell_type": "code",
   "execution_count": 51,
   "metadata": {},
   "outputs": [],
   "source": [
    "hms_df = pd.concat([pd.DataFrame([file_path],\n",
    "                                 columns=['path_hms']) \n",
    "                    for file_path in hms_path_list],\n",
    "                   ignore_index=True)"
   ]
  },
  {
   "cell_type": "code",
   "execution_count": 52,
   "metadata": {},
   "outputs": [],
   "source": [
    "hms_df['timestamp'] = hms_df['path_hms'].apply(lambda filepath: extract_HMS(path.basename(filepath)))\n",
    "hms_df = hms_df.set_index('timestamp').sort_index()"
   ]
  },
  {
   "cell_type": "code",
   "execution_count": 69,
   "metadata": {},
   "outputs": [
    {
     "data": {
      "text/html": [
       "<div>\n",
       "<style scoped>\n",
       "    .dataframe tbody tr th:only-of-type {\n",
       "        vertical-align: middle;\n",
       "    }\n",
       "\n",
       "    .dataframe tbody tr th {\n",
       "        vertical-align: top;\n",
       "    }\n",
       "\n",
       "    .dataframe thead th {\n",
       "        text-align: right;\n",
       "    }\n",
       "</style>\n",
       "<table border=\"1\" class=\"dataframe\">\n",
       "  <thead>\n",
       "    <tr style=\"text-align: right;\">\n",
       "      <th></th>\n",
       "      <th>path_hms</th>\n",
       "    </tr>\n",
       "    <tr>\n",
       "      <th>timestamp</th>\n",
       "      <th></th>\n",
       "    </tr>\n",
       "  </thead>\n",
       "  <tbody>\n",
       "    <tr>\n",
       "      <th>2017-07-01 00:00:00</th>\n",
       "      <td>/n/mickley/users/HMS/HMS_Density/2017/HMS_Dens...</td>\n",
       "    </tr>\n",
       "    <tr>\n",
       "      <th>2017-07-01 00:30:00</th>\n",
       "      <td>/n/mickley/users/HMS/HMS_Density/2017/HMS_Dens...</td>\n",
       "    </tr>\n",
       "    <tr>\n",
       "      <th>2017-07-01 01:00:00</th>\n",
       "      <td>/n/mickley/users/HMS/HMS_Density/2017/HMS_Dens...</td>\n",
       "    </tr>\n",
       "    <tr>\n",
       "      <th>2017-07-01 01:30:00</th>\n",
       "      <td>/n/mickley/users/HMS/HMS_Density/2017/HMS_Dens...</td>\n",
       "    </tr>\n",
       "    <tr>\n",
       "      <th>2017-07-01 02:00:00</th>\n",
       "      <td>/n/mickley/users/HMS/HMS_Density/2017/HMS_Dens...</td>\n",
       "    </tr>\n",
       "    <tr>\n",
       "      <th>...</th>\n",
       "      <td>...</td>\n",
       "    </tr>\n",
       "    <tr>\n",
       "      <th>2020-11-30 17:00:00</th>\n",
       "      <td>/n/mickley/users/HMS/HMS_Density/2020/HMS_Dens...</td>\n",
       "    </tr>\n",
       "    <tr>\n",
       "      <th>2020-11-30 17:30:00</th>\n",
       "      <td>/n/mickley/users/HMS/HMS_Density/2020/HMS_Dens...</td>\n",
       "    </tr>\n",
       "    <tr>\n",
       "      <th>2020-11-30 18:00:00</th>\n",
       "      <td>/n/mickley/users/HMS/HMS_Density/2020/HMS_Dens...</td>\n",
       "    </tr>\n",
       "    <tr>\n",
       "      <th>2020-11-30 18:30:00</th>\n",
       "      <td>/n/mickley/users/HMS/HMS_Density/2020/HMS_Dens...</td>\n",
       "    </tr>\n",
       "    <tr>\n",
       "      <th>2020-11-30 19:00:00</th>\n",
       "      <td>/n/mickley/users/HMS/HMS_Density/2020/HMS_Dens...</td>\n",
       "    </tr>\n",
       "  </tbody>\n",
       "</table>\n",
       "<p>11317 rows × 1 columns</p>\n",
       "</div>"
      ],
      "text/plain": [
       "                                                              path_hms\n",
       "timestamp                                                             \n",
       "2017-07-01 00:00:00  /n/mickley/users/HMS/HMS_Density/2017/HMS_Dens...\n",
       "2017-07-01 00:30:00  /n/mickley/users/HMS/HMS_Density/2017/HMS_Dens...\n",
       "2017-07-01 01:00:00  /n/mickley/users/HMS/HMS_Density/2017/HMS_Dens...\n",
       "2017-07-01 01:30:00  /n/mickley/users/HMS/HMS_Density/2017/HMS_Dens...\n",
       "2017-07-01 02:00:00  /n/mickley/users/HMS/HMS_Density/2017/HMS_Dens...\n",
       "...                                                                ...\n",
       "2020-11-30 17:00:00  /n/mickley/users/HMS/HMS_Density/2020/HMS_Dens...\n",
       "2020-11-30 17:30:00  /n/mickley/users/HMS/HMS_Density/2020/HMS_Dens...\n",
       "2020-11-30 18:00:00  /n/mickley/users/HMS/HMS_Density/2020/HMS_Dens...\n",
       "2020-11-30 18:30:00  /n/mickley/users/HMS/HMS_Density/2020/HMS_Dens...\n",
       "2020-11-30 19:00:00  /n/mickley/users/HMS/HMS_Density/2020/HMS_Dens...\n",
       "\n",
       "[11317 rows x 1 columns]"
      ]
     },
     "execution_count": 69,
     "metadata": {},
     "output_type": "execute_result"
    }
   ],
   "source": [
    "hms_df"
   ]
  },
  {
   "cell_type": "code",
   "execution_count": 70,
   "metadata": {},
   "outputs": [
    {
     "data": {
      "text/plain": [
       "11317"
      ]
     },
     "execution_count": 70,
     "metadata": {},
     "output_type": "execute_result"
    }
   ],
   "source": [
    "len(hms_df)"
   ]
  },
  {
   "cell_type": "markdown",
   "metadata": {},
   "source": [
    "### Daynight"
   ]
  },
  {
   "cell_type": "code",
   "execution_count": 54,
   "metadata": {},
   "outputs": [],
   "source": [
    "daynight_path_list = filter(lambda s: daynight_pattern.match(path.basename(s)), glob(daynight_path, recursive=True))"
   ]
  },
  {
   "cell_type": "code",
   "execution_count": 55,
   "metadata": {},
   "outputs": [],
   "source": [
    "daynight_df = pd.concat([pd.DataFrame([file_path],\n",
    "                                 columns=['path_daynight']) \n",
    "                    for file_path in daynight_path_list],\n",
    "                   ignore_index=True)"
   ]
  },
  {
   "cell_type": "code",
   "execution_count": 56,
   "metadata": {},
   "outputs": [],
   "source": [
    "def extract_daynight_timestamp(daynight_filename):\n",
    "    yday, hour, minute = extract_daynight(path.basename(daynight_filename))\n",
    "    return pd.Series({'yday':yday, 'hour':hour, 'minute': minute})\n",
    "daynight_df = daynight_df.merge(daynight_df.path_daynight.apply(extract_daynight_timestamp), left_index=True, right_index=True)"
   ]
  },
  {
   "cell_type": "code",
   "execution_count": 57,
   "metadata": {},
   "outputs": [],
   "source": [
    "daynight_df = daynight_df.set_index(['yday', 'hour', 'minute']).sort_index()"
   ]
  },
  {
   "cell_type": "code",
   "execution_count": 58,
   "metadata": {},
   "outputs": [
    {
     "data": {
      "text/html": [
       "<div>\n",
       "<style scoped>\n",
       "    .dataframe tbody tr th:only-of-type {\n",
       "        vertical-align: middle;\n",
       "    }\n",
       "\n",
       "    .dataframe tbody tr th {\n",
       "        vertical-align: top;\n",
       "    }\n",
       "\n",
       "    .dataframe thead th {\n",
       "        text-align: right;\n",
       "    }\n",
       "</style>\n",
       "<table border=\"1\" class=\"dataframe\">\n",
       "  <thead>\n",
       "    <tr style=\"text-align: right;\">\n",
       "      <th></th>\n",
       "      <th></th>\n",
       "      <th></th>\n",
       "      <th>path_daynight</th>\n",
       "    </tr>\n",
       "    <tr>\n",
       "      <th>yday</th>\n",
       "      <th>hour</th>\n",
       "      <th>minute</th>\n",
       "      <th></th>\n",
       "    </tr>\n",
       "  </thead>\n",
       "  <tbody>\n",
       "    <tr>\n",
       "      <th rowspan=\"5\" valign=\"top\">1</th>\n",
       "      <th rowspan=\"2\" valign=\"top\">0</th>\n",
       "      <th>0</th>\n",
       "      <td>/n/mickley/users/HMS/DayNight/DayNight_001_000...</td>\n",
       "    </tr>\n",
       "    <tr>\n",
       "      <th>30</th>\n",
       "      <td>/n/mickley/users/HMS/DayNight/DayNight_001_003...</td>\n",
       "    </tr>\n",
       "    <tr>\n",
       "      <th rowspan=\"2\" valign=\"top\">1</th>\n",
       "      <th>0</th>\n",
       "      <td>/n/mickley/users/HMS/DayNight/DayNight_001_010...</td>\n",
       "    </tr>\n",
       "    <tr>\n",
       "      <th>30</th>\n",
       "      <td>/n/mickley/users/HMS/DayNight/DayNight_001_013...</td>\n",
       "    </tr>\n",
       "    <tr>\n",
       "      <th>2</th>\n",
       "      <th>0</th>\n",
       "      <td>/n/mickley/users/HMS/DayNight/DayNight_001_020...</td>\n",
       "    </tr>\n",
       "    <tr>\n",
       "      <th>...</th>\n",
       "      <th>...</th>\n",
       "      <th>...</th>\n",
       "      <td>...</td>\n",
       "    </tr>\n",
       "    <tr>\n",
       "      <th rowspan=\"5\" valign=\"top\">366</th>\n",
       "      <th>21</th>\n",
       "      <th>30</th>\n",
       "      <td>/n/mickley/users/HMS/DayNight/DayNight_366_213...</td>\n",
       "    </tr>\n",
       "    <tr>\n",
       "      <th rowspan=\"2\" valign=\"top\">22</th>\n",
       "      <th>0</th>\n",
       "      <td>/n/mickley/users/HMS/DayNight/DayNight_366_220...</td>\n",
       "    </tr>\n",
       "    <tr>\n",
       "      <th>30</th>\n",
       "      <td>/n/mickley/users/HMS/DayNight/DayNight_366_223...</td>\n",
       "    </tr>\n",
       "    <tr>\n",
       "      <th rowspan=\"2\" valign=\"top\">23</th>\n",
       "      <th>0</th>\n",
       "      <td>/n/mickley/users/HMS/DayNight/DayNight_366_230...</td>\n",
       "    </tr>\n",
       "    <tr>\n",
       "      <th>30</th>\n",
       "      <td>/n/mickley/users/HMS/DayNight/DayNight_366_233...</td>\n",
       "    </tr>\n",
       "  </tbody>\n",
       "</table>\n",
       "<p>17568 rows × 1 columns</p>\n",
       "</div>"
      ],
      "text/plain": [
       "                                                      path_daynight\n",
       "yday hour minute                                                   \n",
       "1    0    0       /n/mickley/users/HMS/DayNight/DayNight_001_000...\n",
       "          30      /n/mickley/users/HMS/DayNight/DayNight_001_003...\n",
       "     1    0       /n/mickley/users/HMS/DayNight/DayNight_001_010...\n",
       "          30      /n/mickley/users/HMS/DayNight/DayNight_001_013...\n",
       "     2    0       /n/mickley/users/HMS/DayNight/DayNight_001_020...\n",
       "...                                                             ...\n",
       "366  21   30      /n/mickley/users/HMS/DayNight/DayNight_366_213...\n",
       "     22   0       /n/mickley/users/HMS/DayNight/DayNight_366_220...\n",
       "          30      /n/mickley/users/HMS/DayNight/DayNight_366_223...\n",
       "     23   0       /n/mickley/users/HMS/DayNight/DayNight_366_230...\n",
       "          30      /n/mickley/users/HMS/DayNight/DayNight_366_233...\n",
       "\n",
       "[17568 rows x 1 columns]"
      ]
     },
     "execution_count": 58,
     "metadata": {},
     "output_type": "execute_result"
    }
   ],
   "source": [
    "daynight_df"
   ]
  },
  {
   "cell_type": "markdown",
   "metadata": {},
   "source": [
    "## Remove duplicates\n",
    "### GOES"
   ]
  },
  {
   "cell_type": "code",
   "execution_count": 59,
   "metadata": {},
   "outputs": [
    {
     "name": "stdout",
     "output_type": "stream",
     "text": [
      "0\n"
     ]
    }
   ],
   "source": [
    "band1_df_mod = band1_df.reset_index()\n",
    "duplicated_index = band1_df_mod.timestamp.duplicated()\n",
    "print(duplicated_index.sum())"
   ]
  },
  {
   "cell_type": "code",
   "execution_count": 60,
   "metadata": {},
   "outputs": [
    {
     "ename": "IndexError",
     "evalue": "index 0 is out of bounds for axis 0 with size 0",
     "output_type": "error",
     "traceback": [
      "\u001b[0;31m---------------------------------------------------------------------------\u001b[0m",
      "\u001b[0;31mIndexError\u001b[0m                                Traceback (most recent call last)",
      "\u001b[0;32m<ipython-input-60-f63e887dab96>\u001b[0m in \u001b[0;36m<module>\u001b[0;34m\u001b[0m\n\u001b[0;32m----> 1\u001b[0;31m \u001b[0mduplicated_elements\u001b[0m \u001b[0;34m=\u001b[0m \u001b[0mband1_df_mod\u001b[0m\u001b[0;34m[\u001b[0m\u001b[0mband1_df_mod\u001b[0m\u001b[0;34m.\u001b[0m\u001b[0mtimestamp\u001b[0m \u001b[0;34m==\u001b[0m \u001b[0mband1_df_mod\u001b[0m\u001b[0;34m[\u001b[0m\u001b[0mduplicated_index\u001b[0m\u001b[0;34m]\u001b[0m\u001b[0;34m.\u001b[0m\u001b[0mtimestamp\u001b[0m\u001b[0;34m.\u001b[0m\u001b[0miat\u001b[0m\u001b[0;34m[\u001b[0m\u001b[0;36m0\u001b[0m\u001b[0;34m]\u001b[0m\u001b[0;34m]\u001b[0m\u001b[0;34m\u001b[0m\u001b[0;34m\u001b[0m\u001b[0m\n\u001b[0m\u001b[1;32m      2\u001b[0m \u001b[0mprint\u001b[0m\u001b[0;34m(\u001b[0m\u001b[0mduplicated_elements\u001b[0m\u001b[0;34m)\u001b[0m\u001b[0;34m\u001b[0m\u001b[0;34m\u001b[0m\u001b[0m\n\u001b[1;32m      3\u001b[0m \u001b[0mprint\u001b[0m\u001b[0;34m(\u001b[0m\u001b[0mduplicated_elements\u001b[0m\u001b[0;34m.\u001b[0m\u001b[0mvalues\u001b[0m\u001b[0;34m)\u001b[0m\u001b[0;34m\u001b[0m\u001b[0;34m\u001b[0m\u001b[0m\n",
      "\u001b[0;32m~/.conda/envs/tf-gpu/lib/python3.6/site-packages/pandas/core/indexing.py\u001b[0m in \u001b[0;36m__getitem__\u001b[0;34m(self, key)\u001b[0m\n\u001b[1;32m   2176\u001b[0m \u001b[0;34m\u001b[0m\u001b[0m\n\u001b[1;32m   2177\u001b[0m         \u001b[0mkey\u001b[0m \u001b[0;34m=\u001b[0m \u001b[0mself\u001b[0m\u001b[0;34m.\u001b[0m\u001b[0m_convert_key\u001b[0m\u001b[0;34m(\u001b[0m\u001b[0mkey\u001b[0m\u001b[0;34m)\u001b[0m\u001b[0;34m\u001b[0m\u001b[0;34m\u001b[0m\u001b[0m\n\u001b[0;32m-> 2178\u001b[0;31m         \u001b[0;32mreturn\u001b[0m \u001b[0mself\u001b[0m\u001b[0;34m.\u001b[0m\u001b[0mobj\u001b[0m\u001b[0;34m.\u001b[0m\u001b[0m_get_value\u001b[0m\u001b[0;34m(\u001b[0m\u001b[0;34m*\u001b[0m\u001b[0mkey\u001b[0m\u001b[0;34m,\u001b[0m \u001b[0mtakeable\u001b[0m\u001b[0;34m=\u001b[0m\u001b[0mself\u001b[0m\u001b[0;34m.\u001b[0m\u001b[0m_takeable\u001b[0m\u001b[0;34m)\u001b[0m\u001b[0;34m\u001b[0m\u001b[0;34m\u001b[0m\u001b[0m\n\u001b[0m\u001b[1;32m   2179\u001b[0m \u001b[0;34m\u001b[0m\u001b[0m\n\u001b[1;32m   2180\u001b[0m     \u001b[0;32mdef\u001b[0m \u001b[0m__setitem__\u001b[0m\u001b[0;34m(\u001b[0m\u001b[0mself\u001b[0m\u001b[0;34m,\u001b[0m \u001b[0mkey\u001b[0m\u001b[0;34m,\u001b[0m \u001b[0mvalue\u001b[0m\u001b[0;34m)\u001b[0m\u001b[0;34m:\u001b[0m\u001b[0;34m\u001b[0m\u001b[0;34m\u001b[0m\u001b[0m\n",
      "\u001b[0;32m~/.conda/envs/tf-gpu/lib/python3.6/site-packages/pandas/core/series.py\u001b[0m in \u001b[0;36m_get_value\u001b[0;34m(self, label, takeable)\u001b[0m\n\u001b[1;32m   1004\u001b[0m         \"\"\"\n\u001b[1;32m   1005\u001b[0m         \u001b[0;32mif\u001b[0m \u001b[0mtakeable\u001b[0m\u001b[0;34m:\u001b[0m\u001b[0;34m\u001b[0m\u001b[0;34m\u001b[0m\u001b[0m\n\u001b[0;32m-> 1006\u001b[0;31m             \u001b[0;32mreturn\u001b[0m \u001b[0mcom\u001b[0m\u001b[0;34m.\u001b[0m\u001b[0mmaybe_box_datetimelike\u001b[0m\u001b[0;34m(\u001b[0m\u001b[0mself\u001b[0m\u001b[0;34m.\u001b[0m\u001b[0m_values\u001b[0m\u001b[0;34m[\u001b[0m\u001b[0mlabel\u001b[0m\u001b[0;34m]\u001b[0m\u001b[0;34m)\u001b[0m\u001b[0;34m\u001b[0m\u001b[0;34m\u001b[0m\u001b[0m\n\u001b[0m\u001b[1;32m   1007\u001b[0m         \u001b[0;32mreturn\u001b[0m \u001b[0mself\u001b[0m\u001b[0;34m.\u001b[0m\u001b[0mindex\u001b[0m\u001b[0;34m.\u001b[0m\u001b[0mget_value\u001b[0m\u001b[0;34m(\u001b[0m\u001b[0mself\u001b[0m\u001b[0;34m.\u001b[0m\u001b[0m_values\u001b[0m\u001b[0;34m,\u001b[0m \u001b[0mlabel\u001b[0m\u001b[0;34m)\u001b[0m\u001b[0;34m\u001b[0m\u001b[0;34m\u001b[0m\u001b[0m\n\u001b[1;32m   1008\u001b[0m \u001b[0;34m\u001b[0m\u001b[0m\n",
      "\u001b[0;31mIndexError\u001b[0m: index 0 is out of bounds for axis 0 with size 0"
     ]
    }
   ],
   "source": [
    "duplicated_elements = band1_df_mod[band1_df_mod.timestamp == band1_df_mod[duplicated_index].timestamp.iat[0]]\n",
    "print(duplicated_elements)\n",
    "print(duplicated_elements.values)"
   ]
  },
  {
   "cell_type": "code",
   "execution_count": 37,
   "metadata": {},
   "outputs": [],
   "source": [
    "remove_idx = duplicated_elements.iloc[0].name\n",
    "band1_df_mod = band1_df_mod.drop(index=remove_idx)\n",
    "band1_df = band1_df_mod.set_index('timestamp')"
   ]
  },
  {
   "cell_type": "code",
   "execution_count": 38,
   "metadata": {},
   "outputs": [
    {
     "data": {
      "text/html": [
       "<div>\n",
       "<style scoped>\n",
       "    .dataframe tbody tr th:only-of-type {\n",
       "        vertical-align: middle;\n",
       "    }\n",
       "\n",
       "    .dataframe tbody tr th {\n",
       "        vertical-align: top;\n",
       "    }\n",
       "\n",
       "    .dataframe thead th {\n",
       "        text-align: right;\n",
       "    }\n",
       "</style>\n",
       "<table border=\"1\" class=\"dataframe\">\n",
       "  <thead>\n",
       "    <tr style=\"text-align: right;\">\n",
       "      <th></th>\n",
       "      <th>path_band1</th>\n",
       "    </tr>\n",
       "    <tr>\n",
       "      <th>timestamp</th>\n",
       "      <th></th>\n",
       "    </tr>\n",
       "  </thead>\n",
       "  <tbody>\n",
       "    <tr>\n",
       "      <th>2018-01-01 20:00:00</th>\n",
       "      <td>/n/mickley/lab/HMS_vision/original/band1/RadF-...</td>\n",
       "    </tr>\n",
       "    <tr>\n",
       "      <th>2018-01-01 20:30:00</th>\n",
       "      <td>/n/mickley/lab/HMS_vision/original/band1/RadF-...</td>\n",
       "    </tr>\n",
       "    <tr>\n",
       "      <th>2018-01-01 21:00:00</th>\n",
       "      <td>/n/mickley/lab/HMS_vision/original/band1/RadF-...</td>\n",
       "    </tr>\n",
       "    <tr>\n",
       "      <th>2018-01-01 21:30:00</th>\n",
       "      <td>/n/mickley/lab/HMS_vision/original/band1/RadF-...</td>\n",
       "    </tr>\n",
       "    <tr>\n",
       "      <th>2018-01-01 22:00:00</th>\n",
       "      <td>/n/mickley/lab/HMS_vision/original/band1/RadF-...</td>\n",
       "    </tr>\n",
       "    <tr>\n",
       "      <th>...</th>\n",
       "      <td>...</td>\n",
       "    </tr>\n",
       "    <tr>\n",
       "      <th>2018-12-29 23:30:00</th>\n",
       "      <td>/n/mickley/lab/HMS_vision/original/band1/RadF-...</td>\n",
       "    </tr>\n",
       "    <tr>\n",
       "      <th>2018-12-30 00:00:00</th>\n",
       "      <td>/n/mickley/lab/HMS_vision/original/band1/RadF-...</td>\n",
       "    </tr>\n",
       "    <tr>\n",
       "      <th>2018-12-30 00:30:00</th>\n",
       "      <td>/n/mickley/lab/HMS_vision/original/band1/RadF-...</td>\n",
       "    </tr>\n",
       "    <tr>\n",
       "      <th>2018-12-30 01:00:00</th>\n",
       "      <td>/n/mickley/lab/HMS_vision/original/band1/RadF-...</td>\n",
       "    </tr>\n",
       "    <tr>\n",
       "      <th>2018-12-30 01:30:00</th>\n",
       "      <td>/n/mickley/lab/HMS_vision/original/band1/RadF-...</td>\n",
       "    </tr>\n",
       "  </tbody>\n",
       "</table>\n",
       "<p>7676 rows × 1 columns</p>\n",
       "</div>"
      ],
      "text/plain": [
       "                                                            path_band1\n",
       "timestamp                                                             \n",
       "2018-01-01 20:00:00  /n/mickley/lab/HMS_vision/original/band1/RadF-...\n",
       "2018-01-01 20:30:00  /n/mickley/lab/HMS_vision/original/band1/RadF-...\n",
       "2018-01-01 21:00:00  /n/mickley/lab/HMS_vision/original/band1/RadF-...\n",
       "2018-01-01 21:30:00  /n/mickley/lab/HMS_vision/original/band1/RadF-...\n",
       "2018-01-01 22:00:00  /n/mickley/lab/HMS_vision/original/band1/RadF-...\n",
       "...                                                                ...\n",
       "2018-12-29 23:30:00  /n/mickley/lab/HMS_vision/original/band1/RadF-...\n",
       "2018-12-30 00:00:00  /n/mickley/lab/HMS_vision/original/band1/RadF-...\n",
       "2018-12-30 00:30:00  /n/mickley/lab/HMS_vision/original/band1/RadF-...\n",
       "2018-12-30 01:00:00  /n/mickley/lab/HMS_vision/original/band1/RadF-...\n",
       "2018-12-30 01:30:00  /n/mickley/lab/HMS_vision/original/band1/RadF-...\n",
       "\n",
       "[7676 rows x 1 columns]"
      ]
     },
     "execution_count": 38,
     "metadata": {},
     "output_type": "execute_result"
    }
   ],
   "source": [
    "band1_df"
   ]
  },
  {
   "cell_type": "code",
   "execution_count": 61,
   "metadata": {},
   "outputs": [
    {
     "name": "stdout",
     "output_type": "stream",
     "text": [
      "0\n"
     ]
    }
   ],
   "source": [
    "band3_df_mod = band3_df.reset_index()\n",
    "duplicated_index = band3_df_mod.timestamp.duplicated()\n",
    "print(duplicated_index.sum())"
   ]
  },
  {
   "cell_type": "markdown",
   "metadata": {},
   "source": [
    "### HMS"
   ]
  },
  {
   "cell_type": "code",
   "execution_count": 62,
   "metadata": {},
   "outputs": [
    {
     "name": "stdout",
     "output_type": "stream",
     "text": [
      "0\n"
     ]
    }
   ],
   "source": [
    "hms_df_mod = hms_df.reset_index()\n",
    "duplicated_index = hms_df_mod.timestamp.duplicated()\n",
    "print(duplicated_index.sum())"
   ]
  },
  {
   "cell_type": "markdown",
   "metadata": {},
   "source": [
    "### Save csv"
   ]
  },
  {
   "cell_type": "code",
   "execution_count": 64,
   "metadata": {},
   "outputs": [],
   "source": [
    "band1_df.to_csv('csv/band1.csv')\n",
    "band3_df.to_csv('csv/band3.csv')\n",
    "hms_df.to_csv('csv/hms.csv')\n",
    "daynight_df.to_csv('csv/daynight.csv')"
   ]
  },
  {
   "cell_type": "code",
   "execution_count": null,
   "metadata": {},
   "outputs": [],
   "source": []
  }
 ],
 "metadata": {
  "kernelspec": {
   "display_name": "Python [conda env:.conda-tf-gpu]",
   "language": "python",
   "name": "conda-env-.conda-tf-gpu-py"
  },
  "language_info": {
   "codemirror_mode": {
    "name": "ipython",
    "version": 3
   },
   "file_extension": ".py",
   "mimetype": "text/x-python",
   "name": "python",
   "nbconvert_exporter": "python",
   "pygments_lexer": "ipython3",
   "version": "3.6.10"
  }
 },
 "nbformat": 4,
 "nbformat_minor": 4
}
