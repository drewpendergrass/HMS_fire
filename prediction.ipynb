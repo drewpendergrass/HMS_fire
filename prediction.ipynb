{
 "cells": [
  {
   "cell_type": "code",
   "execution_count": 1,
   "metadata": {},
   "outputs": [],
   "source": [
    "import tensorflow as tf\n",
    "import numpy as np\n",
    "from model import unet\n",
    "from os import path\n",
    "import matplotlib.pyplot as plt\n",
    "from data import *\n",
    "import pandas as pd\n",
    "from datetime import datetime\n",
    "import keras"
   ]
  },
  {
   "cell_type": "code",
   "execution_count": 2,
   "metadata": {},
   "outputs": [],
   "source": [
    "import matplotlib.pyplot as plt\n",
    "import matplotlib.image as mpimg"
   ]
  },
  {
   "cell_type": "code",
   "execution_count": 3,
   "metadata": {},
   "outputs": [],
   "source": [
    "miou = tf.keras.metrics.MeanIoU(num_classes=4)\n",
    "binmiou = tf.keras.metrics.MeanIoU(num_classes=2)"
   ]
  },
  {
   "cell_type": "code",
   "execution_count": 4,
   "metadata": {},
   "outputs": [],
   "source": [
    "scce = tf.keras.metrics.SparseCategoricalCrossentropy()\n",
    "sca = tf.keras.metrics.SparseCategoricalAccuracy()\n",
    "binsca = tf.keras.metrics.SparseCategoricalAccuracy()"
   ]
  },
  {
   "cell_type": "code",
   "execution_count": 5,
   "metadata": {},
   "outputs": [],
   "source": [
    "train_df = pd.read_csv('dense-by_date-train-14.csv', index_col=['timestamp', 'num'], parse_dates=['timestamp'])"
   ]
  },
  {
   "cell_type": "code",
   "execution_count": 6,
   "metadata": {},
   "outputs": [],
   "source": [
    "test_df = pd.read_csv('dense-by_date-test-14.csv', index_col=['timestamp', 'num'], parse_dates=['timestamp'])\n",
    "# test_df = test_df[test_df.is_dense]"
   ]
  },
  {
   "cell_type": "code",
   "execution_count": 7,
   "metadata": {},
   "outputs": [
    {
     "name": "stdout",
     "output_type": "stream",
     "text": [
      "Found 27140 non-validated image filenames.\n",
      "Found 27140 non-validated image filenames.\n",
      "Found 27140 non-validated image filenames.\n",
      "Found 0 non-validated image filenames.\n",
      "Found 0 non-validated image filenames.\n",
      "Found 0 non-validated image filenames.\n"
     ]
    }
   ],
   "source": [
    "band1_gen, band3_gen, hms_gen, val_band1_gen, val_band3_gen, val_hms_gen = train_data_generator(\n",
    "    dataframe=test_df,\n",
    "    batch_size=1, image_side_length=256, seed=None, validation_split_rate=0,\n",
    "    flip=False,\n",
    "    shuffle=False,\n",
    "    classify_level='density'\n",
    "    )\n",
    "num_img = len(band1_gen)"
   ]
  },
  {
   "cell_type": "code",
   "execution_count": 8,
   "metadata": {},
   "outputs": [],
   "source": [
    "scce.reset_states()\n",
    "sca.reset_states()\n",
    "miou.reset_states()\n",
    "binsca.reset_states()\n",
    "binmiou.reset_states()"
   ]
  },
  {
   "cell_type": "code",
   "execution_count": 9,
   "metadata": {},
   "outputs": [],
   "source": [
    "model = unet(pretrained_weights=\"dense-by_date-256-14.hdf5\", input_size=(256, 256, 2), classify_level=4)"
   ]
  },
  {
   "cell_type": "code",
   "execution_count": 11,
   "metadata": {},
   "outputs": [],
   "source": [
    "show_im = False\n",
    "# break_num = 30\n",
    "break_num = 219"
   ]
  },
  {
   "cell_type": "code",
   "execution_count": 12,
   "metadata": {},
   "outputs": [],
   "source": [
    "auto_encoder = False\n",
    "for i, (bands, targets) in enumerate(stack_gen(band1_gen, band3_gen, hms_gen, auto_encoder=auto_encoder)):\n",
    "    if i > break_num:\n",
    "        break\n",
    "    else:\n",
    "        # fit\n",
    "        prediction = model.predict(bands)\n",
    "        # plot\n",
    "        prediction_category = prediction.argmax(axis=-1)\n",
    "        sca.update_state(targets, prediction)\n",
    "        miou.update_state(targets, prediction_category)\n",
    "        if show_im:\n",
    "            fig, ax = plt.subplots(nrows=1, ncols=4, figsize=(20, 5))\n",
    "            ax[0].imshow(bands[0, :, :, 0], cmap='gray', vmin=0, vmax=1)\n",
    "            ax[0].set_title(\"band1\")\n",
    "            ax[1].imshow(bands[0, :, :, 1], cmap='gray', vmin=0, vmax=1)\n",
    "            ax[1].set_title(\"band3\")\n",
    "            ax[2].imshow(targets[0, :, :, 0], cmap='gray', vmin=0, vmax=3)\n",
    "            ax[2].set_title(\"HMS\")\n",
    "            ax[3].imshow(prediction_category[0], cmap='gray', vmin=0, vmax=3)\n",
    "            ax[3].set_title(\"prediction\")\n",
    "            plt.show()"
   ]
  },
  {
   "cell_type": "code",
   "execution_count": 13,
   "metadata": {},
   "outputs": [
    {
     "data": {
      "text/plain": [
       "(<tf.Tensor: shape=(), dtype=float32, numpy=0.54100454>,\n",
       " <tf.Tensor: shape=(), dtype=float32, numpy=0.16445437>)"
      ]
     },
     "execution_count": 13,
     "metadata": {},
     "output_type": "execute_result"
    }
   ],
   "source": [
    "sca.result(), miou.result()"
   ]
  },
  {
   "cell_type": "code",
   "execution_count": 10,
   "metadata": {},
   "outputs": [],
   "source": [
    "for i, (bands, targets) in enumerate(stack_gen(band1_gen, band3_gen, hms_gen, auto_encoder=auto_encoder)):\n",
    "    # fit\n",
    "    if i > num_img or i > break_num:\n",
    "        break\n",
    "# plot\n",
    "    if auto_encoder:\n",
    "        prediction4 = model4.predict(bands)\n",
    "        prediction5 = model5.predict(bands)\n",
    "        mse_unet.update_state(targets, prediction4)\n",
    "        mse_fcn.update_state(targets, prediction5)\n",
    "        if show_im:\n",
    "            fig, ax = plt.subplots(nrows=1, ncols=3, figsize=(15, 5))\n",
    "            ax[0].imshow(bands[0, :, :, 0], cmap='gray', vmin=0, vmax=1)\n",
    "            ax[0].set_title(\"input (band1)\")\n",
    "            ax[1].imshow(prediction4[0, :, :, 0], cmap='gray', vmin=0, vmax=1)\n",
    "            ax[1].set_title(\"auto-encoder U-net\")\n",
    "            ax[2].imshow(prediction5[0, :, :, 0], cmap='gray', vmin=0, vmax=1)\n",
    "            ax[2].set_title(\"auto-encoder FCN\")\n",
    "            plt.savefig(\"example_fig/autoencoderexample{i}.png\".format(i=i), dpi=150)\n",
    "            print(\"example_fig/autoencoderexample{i}.png\".format(i=i))\n",
    "            plt.show()\n",
    "    else:\n",
    "        prediction1 = model1.predict(bands)\n",
    "        prediction2 = model2.predict(bands)\n",
    "        prediction3 = model3.predict(bands)\n",
    "        sca_pre.update_state(targets, prediction1)\n",
    "        sca_fcn.update_state(targets, prediction2)\n",
    "        sca_usual.update_state(targets, prediction3)\n",
    "        if show_im:\n",
    "            prediction_category1 = prediction1.argmax(axis=-1)\n",
    "            prediction_category2 = prediction2.argmax(axis=-1)\n",
    "            prediction_category3 = prediction3.argmax(axis=-1)\n",
    "            fig, ax = plt.subplots(nrows=1, ncols=5, figsize=(20, 5))\n",
    "            ax[0].imshow(bands[0, :, :, 0], cmap='gray', vmin=0, vmax=1)\n",
    "            ax[0].set_title(\"input (band1)\")\n",
    "            ax[1].imshow(targets[0, :, :, 0], cmap='gray', vmin=0, vmax=3)\n",
    "            ax[1].set_title(\"target (HMS)\")\n",
    "            ax[2].imshow(prediction_category1[0], cmap='gray', vmin=0, vmax=3)\n",
    "            ax[2].set_title(\"prediction (pre-trained unet)\")\n",
    "            ax[3].imshow(prediction_category2[0], cmap='gray', vmin=0, vmax=3)\n",
    "            ax[3].set_title(\"prediction (pre-trained fcn)\")\n",
    "            ax[4].imshow(prediction_category3[0], cmap='gray', vmin=0, vmax=3)\n",
    "            ax[4].set_title(\"prediction (pure unet)\")\n",
    "            plt.savefig(\"example_fig/outputexample{i}.png\".format(i=i), dpi=150)\n",
    "            print(\"example_fig/outputexample{i}.png\".format(i=i))\n",
    "            plt.show()"
   ]
  },
  {
   "cell_type": "code",
   "execution_count": 13,
   "metadata": {},
   "outputs": [
    {
     "data": {
      "text/plain": [
       "<tf.Tensor: shape=(), dtype=float32, numpy=0.46505728>"
      ]
     },
     "execution_count": 13,
     "metadata": {},
     "output_type": "execute_result"
    }
   ],
   "source": [
    "sca.result()"
   ]
  },
  {
   "cell_type": "code",
   "execution_count": null,
   "metadata": {},
   "outputs": [],
   "source": [
    "acclev = [[], [], [], []]\n",
    "for i, (bands, hms) in enumerate(stack_gen(band1_gen, band3_gen, hms_gen)):\n",
    "    prediction = model.predict(bands)\n",
    "    prediction_category = prediction.argmax(axis=-1)\n",
    "    sca.update_state(hms, prediction_category[0])\n",
    "    miou.update_state(hms[0, :, :, 0], prediction_category[0])\n",
    "    binsca.update_state(np.sign(hms), np.sign(prediction_category[0]))\n",
    "    binmiou.update_state(np.sign(hms[0, :, :, 0]), np.sign(prediction_category[0]))\n",
    "    for lev in range(4):\n",
    "        if (hms == lev).sum() > 0:\n",
    "            acclev[lev].append(np.logical_and((hms[0, :, :, 0] == lev), (prediction_category[0] == lev)).sum() / (hms[0, :, :, 0] == lev).sum())"
   ]
  },
  {
   "cell_type": "code",
   "execution_count": null,
   "metadata": {},
   "outputs": [],
   "source": [
    "for lev in acclev:\n",
    "    print(np.mean(np.array(lev)))"
   ]
  },
  {
   "cell_type": "code",
   "execution_count": null,
   "metadata": {},
   "outputs": [],
   "source": [
    "sca.result(), miou.result(), binsca.result(), binmiou.result()"
   ]
  },
  {
   "cell_type": "code",
   "execution_count": 8,
   "metadata": {},
   "outputs": [],
   "source": [
    "filelist = [path.join(hms_path, filename) for filename in listdir(hms_path)]"
   ]
  },
  {
   "cell_type": "code",
   "execution_count": 9,
   "metadata": {},
   "outputs": [],
   "source": [
    "sumlist = np.empty(len(filelist))\n",
    "for i, file_path in enumerate(filelist):\n",
    "    image_array = map_HMS_mask(np.asarray(Image.open(file_path)))\n",
    "    sumlist[i] = image_array.sum()"
   ]
  },
  {
   "cell_type": "code",
   "execution_count": 11,
   "metadata": {},
   "outputs": [
    {
     "data": {
      "image/png": "[encoded data removed]",
      "text/plain": [
       "<Figure size 432x288 with 1 Axes>"
      ]
     },
     "metadata": {
      "needs_background": "light"
     },
     "output_type": "display_data"
    }
   ],
   "source": [
    "plt.hist(sumlist)\n",
    "plt.savefig(\"dist.png\", dpi=200)"
   ]
  },
  {
   "cell_type": "code",
   "execution_count": null,
   "metadata": {},
   "outputs": [],
   "source": []
  }
 ],
 "metadata": {
  "kernelspec": {
   "display_name": "Python [conda env:.conda-tf-gpu]",
   "language": "python",
   "name": "conda-env-.conda-tf-gpu-py"
  },
  "language_info": {
   "codemirror_mode": {
    "name": "ipython",
    "version": 3
   },
   "file_extension": ".py",
   "mimetype": "text/x-python",
   "name": "python",
   "nbconvert_exporter": "python",
   "pygments_lexer": "ipython3",
   "version": "3.6.10"
  }
 },
 "nbformat": 4,
 "nbformat_minor": 4
}
